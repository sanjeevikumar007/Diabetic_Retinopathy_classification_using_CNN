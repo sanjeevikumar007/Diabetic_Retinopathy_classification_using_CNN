{
 "cells": [
  {
   "cell_type": "code",
   "execution_count": 1,
   "metadata": {},
   "outputs": [],
   "source": [
    "from flask import Flask, request, jsonify\n",
    "from flask import Flask, render_template, request\n",
    "from tensorflow.keras.models import load_model\n",
    "from tensorflow.keras.preprocessing.image import load_img, img_to_array, array_to_img\n",
    "from tensorflow.keras.applications.resnet50 import preprocess_input\n",
    "import numpy as np\n",
    "import tensorflow as tf\n",
    "import numpy as np\n",
    "import cv2\n",
    "from PIL import Image \n",
    "from io import BytesIO\n",
    "from flask import Flask, request, jsonify\n",
    "import base64\n",
    "from pymongo import MongoClient"
   ]
  },
  {
   "cell_type": "code",
   "execution_count": 2,
   "metadata": {},
   "outputs": [],
   "source": [
    "model = tf.keras.models.load_model('D:/Project/DR/model_alexnet_wiener_clahe_g.h5')\n",
    "# Initialize the Flask application\n",
    "app = Flask(__name__)"
   ]
  },
  {
   "cell_type": "code",
   "execution_count": 10,
   "metadata": {},
   "outputs": [],
   "source": [
    "# Define a function to preprocess the image data for the model\n",
    "def preprocess_image(image):\n",
    "    # Resize the image to the input shape of the model\n",
    "    image = image.resize((224, 224))\n",
    "    # Convert the image to a numpy array\n",
    "    image = np.array(image)\n",
    "    # Normalize the pixel values to be between 0 and 1\n",
    "    image = image / 255.0\n",
    "    # Add an extra dimension to represent the batch size\n",
    "    image = np.expand_dims(image, axis=0)\n",
    "    return image"
   ]
  },
  {
   "cell_type": "code",
   "execution_count": 4,
   "metadata": {},
   "outputs": [],
   "source": [
    "def preprocess_image(image_bytes):\n",
    "    img =Image.open(BytesIO(image_bytes)).conert('RGB')\n",
    "    img_array = np.array(img)\n",
    "    img_array = img_array/255\n",
    "    img_array =np.expand_dims(img_array, axis=0)\n",
    "    return img_array"
   ]
  },
  {
   "cell_type": "code",
   "execution_count": 5,
   "metadata": {},
   "outputs": [],
   "source": [
    "def predict(image_bytes):\n",
    "    img_array = preprocess_image(image_bytes)\n",
    "    predictions =model,predict(img_array)\n",
    "    predicted_class=np.argmax(predictions[0])\n",
    "    return predicted_class"
   ]
  },
  {
   "cell_type": "code",
   "execution_count": 6,
   "metadata": {},
   "outputs": [],
   "source": [
    "def readb64(base64_string):\n",
    "    sbuf = BytesIO()\n",
    "    sbuf.write(base64.b64decode(base64_string))\n",
    "    pimg = Image.open(sbuf).convert('RGB')\n",
    "    return pimg"
   ]
  },
  {
   "cell_type": "code",
   "execution_count": 7,
   "metadata": {},
   "outputs": [],
   "source": [
    "def process_image_and_predict(base64_string):\n",
    "    image = readb64(base64_string)\n",
    "    image_bytes = cv2.imencode('.jpg', np.array(image))[1].tobytes()\n",
    "    predicted_class = predict(image_bytes)\n",
    "    return predicted_class"
   ]
  },
  {
   "cell_type": "code",
   "execution_count": 11,
   "metadata": {},
   "outputs": [
    {
     "ename": "NameError",
     "evalue": "name 'img_array' is not defined",
     "output_type": "error",
     "traceback": [
      "\u001b[1;31m---------------------------------------------------------------------------\u001b[0m",
      "\u001b[1;31mNameError\u001b[0m                                 Traceback (most recent call last)",
      "Cell \u001b[1;32mIn[11], line 2\u001b[0m\n\u001b[0;32m      1\u001b[0m \u001b[39m# Generate predictions\u001b[39;00m\n\u001b[1;32m----> 2\u001b[0m y_preds \u001b[39m=\u001b[39m model\u001b[39m.\u001b[39mpredict(img_array)\n\u001b[0;32m      4\u001b[0m \u001b[39m# Print the predicted class probabilities\u001b[39;00m\n\u001b[0;32m      5\u001b[0m \u001b[39mprint\u001b[39m(y_preds)\n",
      "\u001b[1;31mNameError\u001b[0m: name 'img_array' is not defined"
     ]
    }
   ],
   "source": [
    "# Generate predictions\n",
    "y_preds = model.predict(img_array)\n",
    "\n",
    "# Print the predicted class probabilities\n",
    "print(y_preds)\n"
   ]
  }
 ],
 "metadata": {
  "kernelspec": {
   "display_name": "Python 3",
   "language": "python",
   "name": "python3"
  },
  "language_info": {
   "codemirror_mode": {
    "name": "ipython",
    "version": 3
   },
   "file_extension": ".py",
   "mimetype": "text/x-python",
   "name": "python",
   "nbconvert_exporter": "python",
   "pygments_lexer": "ipython3",
   "version": "3.11.3"
  },
  "orig_nbformat": 4
 },
 "nbformat": 4,
 "nbformat_minor": 2
}
