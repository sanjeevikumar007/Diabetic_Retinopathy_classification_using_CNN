{
 "cells": [
  {
   "cell_type": "code",
   "execution_count": null,
   "metadata": {},
   "outputs": [],
   "source": [
    "from flask import Flask, request, jsonify\n",
    "from tensorflow.keras.models import load_model\n",
    "from tensorflow.keras.preprocessing.image import load_img, img_to_array, array_to_img\n",
    "from tensorflow.keras.applications.resnet50 import preprocess_input\n",
    "import numpy as np\n",
    "\n",
    "app = Flask(__name__)\n",
    "\n",
    "# Load the pre-trained model\n",
    "model = load_model('D:/Project/DR/model_alexnet_wiener_clahe_g.h5')\n",
    "\n",
    "# Define a route for the web page that accepts image files\n",
    "@app.route('/predict', methods=['POST'])\n",
    "def predict():\n",
    "    # Get the image file from the request\n",
    "    image_file = request.files['file1']\n",
    "\n",
    "    # Load the image file and preprocess it\n",
    "    image = load_img(image_file, target_size=(224, 224))\n",
    "    image = img_to_array(image)\n",
    "    image = np.expand_dims(image, axis=0)\n",
    "    image = preprocess_input(image)\n",
    "\n",
    "    # Make a prediction using the model\n",
    "    prediction = model.predict(image)\n",
    "\n",
    "    # Return the prediction to the user interface\n",
    "    prediction_labels = ['Class 0', 'Class 1', 'Class 2', 'Class 3', 'Class 4']\n",
    "    predicted_class = prediction_labels[np.argmax(prediction)]\n",
    "    return jsonify({'prediction': predicted_class})\n",
    "\n",
    "if __name__ == '__main__':\n",
    "    app.run(port= 3000, debug=True)\n"
   ]
  }
 ],
 "metadata": {
  "kernelspec": {
   "display_name": "Python 3",
   "language": "python",
   "name": "python3"
  },
  "language_info": {
   "codemirror_mode": {
    "name": "ipython",
    "version": 3
   },
   "file_extension": ".py",
   "mimetype": "text/x-python",
   "name": "python",
   "nbconvert_exporter": "python",
   "pygments_lexer": "ipython3",
   "version": "3.11.3"
  },
  "orig_nbformat": 4
 },
 "nbformat": 4,
 "nbformat_minor": 2
}
