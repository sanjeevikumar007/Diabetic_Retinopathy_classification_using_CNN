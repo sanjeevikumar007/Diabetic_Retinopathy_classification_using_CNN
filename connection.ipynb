{
 "cells": [
  {
   "cell_type": "code",
   "execution_count": 357,
   "metadata": {},
   "outputs": [],
   "source": [
    "import tensorflow as tf\n",
    "from flask import Flask, render_template, request\n",
    "import numpy as np\n",
    "import cv2\n",
    "from PIL import Image \n",
    "from io import BytesIO\n",
    "from flask import Flask, request, jsonify\n",
    "import base64\n",
    "from pymongo import MongoClient\n",
    "from tensorflow.keras.preprocessing.image import load_img, img_to_array\n",
    "from flask import Flask, request, jsonify\n",
    "from flask import Flask, render_template, request\n",
    "from tensorflow.keras.models import load_model\n",
    "from tensorflow.keras.preprocessing.image import load_img, img_to_array, array_to_img\n",
    "from tensorflow.keras.applications.resnet50 import preprocess_input"
   ]
  },
  {
   "cell_type": "code",
   "execution_count": 358,
   "metadata": {},
   "outputs": [],
   "source": [
    "model = tf.keras.models.load_model('D:/Project/DR/model_alexnet_wiener_clahe_g.h5')"
   ]
  },
  {
   "cell_type": "code",
   "execution_count": 359,
   "metadata": {},
   "outputs": [],
   "source": [
    "# Initialize the Flask application\n",
    "app = Flask(__name__)"
   ]
  },
  {
   "cell_type": "code",
   "execution_count": 360,
   "metadata": {},
   "outputs": [],
   "source": [
    "def preprocess_image(image_bytes):\n",
    "    img =Image.open(BytesIO(image_bytes)).conert('RGB')\n",
    "    img_array = np.array(img)\n",
    "    img_array = img_array/255\n",
    "    img_array =np.expand_dims(img_array, axis=0)\n",
    "    return img_array\n"
   ]
  },
  {
   "cell_type": "code",
   "execution_count": 361,
   "metadata": {},
   "outputs": [],
   "source": [
    "def index():\n",
    "    if request.method == 'POST':\n",
    "        # Get the user details from the request\n",
    "        name = request.form['name']\n",
    "        phone = request.form['phone']\n",
    "        email = request.form['email']\n",
    "        # Get the image data from the request\n",
    "        img = request.files['image'].read(target_size=(224, 224))\n",
    "        img_array = img_to_array(img)\n",
    "        # Resize the image to (224, 224)\n",
    "        img = img.resize((224, 224))\n",
    "        # Normalize the image\n",
    "        img_array = img_array / 255.0\n",
    "        img_array = np.expand_dims(img_array, axis=0)\n",
    "        # Convert the image to a PIL Image object\n",
    "        img = Image.open(io.BytesIO(img))\n",
    "        # Preprocess the image data for the model\n",
    "        img = preprocess_image(img)\n",
    "        # Run the image through the model to get the prediction\n",
    "        predicted_class = model.predict(img)[0]\n",
    "        # Generate predictions\n",
    "        y_preds = model.predict(img_array)\n",
    "        class_code = {0: \"No_DR\",\n",
    "              1: \"Mild\", \n",
    "              2: \"Moderate\",\n",
    "              3: \"Severe\",\n",
    "              4: \"Proliferate_DR\"}\n",
    "        predicted_class = class_code[y_preds.argmax()]\n",
    "        # Store the user details, image, and prediction in the database\n",
    "        encoded_image = base64.b64encode(img).decode('utf-8')\n",
    "        db.images.insert_one({'name': name, 'phone': phone, 'email': email, 'image': encoded_image, 'prediction': str(prediction)})\n",
    "        # Display the prediction on the webpage\n",
    "        return render_template('model.js', prediction=prediction)\n",
    "    return render_template('index.js')"
   ]
  },
  {
   "cell_type": "code",
   "execution_count": 362,
   "metadata": {},
   "outputs": [],
   "source": [
    "def predict(image_bytes):\n",
    "    img_array = preprocess_image(image_bytes)\n",
    "    predictions =model,predict(img_array)\n",
    "    predicted_class=np.argmax(predictions[0])\n",
    "    return predicted_class\n"
   ]
  },
  {
   "cell_type": "code",
   "execution_count": 363,
   "metadata": {},
   "outputs": [],
   "source": [
    "def readb64(base64_string):\n",
    "    sbuf = BytesIO()\n",
    "    sbuf.write(base64.b64decode(base64_string))\n",
    "    pimg = Image.open(sbuf).convert('RGB')\n",
    "    return pimg"
   ]
  },
  {
   "cell_type": "code",
   "execution_count": 364,
   "metadata": {},
   "outputs": [],
   "source": [
    "def process_image_and_predict(base64_string):\n",
    "    image = readb64(base64_string)\n",
    "    image_bytes = cv2.imencode('.jpg', np.array(image))[1].tobytes()\n",
    "    predicted_class = predict(image_bytes)\n",
    "    return predicted_class"
   ]
  },
  {
   "cell_type": "code",
   "execution_count": 365,
   "metadata": {},
   "outputs": [],
   "source": [
    "from flask import Flask\n",
    "from waitress import serve\n",
    "from concurrent.futures import thread"
   ]
  },
  {
   "cell_type": "code",
   "execution_count": 366,
   "metadata": {},
   "outputs": [
    {
     "ename": "NameError",
     "evalue": "name 'phone' is not defined",
     "output_type": "error",
     "traceback": [
      "\u001b[1;31m---------------------------------------------------------------------------\u001b[0m",
      "\u001b[1;31mNameError\u001b[0m                                 Traceback (most recent call last)",
      "Cell \u001b[1;32mIn[366], line 3\u001b[0m\n\u001b[0;32m      1\u001b[0m client \u001b[39m=\u001b[39m MongoClient(\u001b[39m'\u001b[39m\u001b[39mmongodb://localhost:27017/\u001b[39m\u001b[39m'\u001b[39m)\n\u001b[0;32m      2\u001b[0m db \u001b[39m=\u001b[39m client[\u001b[39m'\u001b[39m\u001b[39mimage_database\u001b[39m\u001b[39m'\u001b[39m]\n\u001b[1;32m----> 3\u001b[0m collection_name \u001b[39m=\u001b[39m \u001b[39m'\u001b[39m\u001b[39mname\u001b[39m\u001b[39m'\u001b[39m \u001b[39m+\u001b[39m phone\n\u001b[0;32m      4\u001b[0m collection \u001b[39m=\u001b[39m db[collection_name]\n",
      "\u001b[1;31mNameError\u001b[0m: name 'phone' is not defined"
     ]
    }
   ],
   "source": [
    "\n",
    "client = MongoClient('mongodb://localhost:27017/')\n",
    "db = client['image_database']\n",
    "collection_name = 'name' + phone\n",
    "collection = db[collection_name]"
   ]
  },
  {
   "cell_type": "code",
   "execution_count": null,
   "metadata": {},
   "outputs": [
    {
     "name": "stdout",
     "output_type": "stream",
     "text": [
      " * Serving Flask app '__main__'\n",
      " * Debug mode: on\n"
     ]
    },
    {
     "name": "stderr",
     "output_type": "stream",
     "text": [
      "WARNING: This is a development server. Do not use it in a production deployment. Use a production WSGI server instead.\n",
      " * Running on http://127.0.0.1:3000\n",
      "INFO:werkzeug:\u001b[31m\u001b[1mWARNING: This is a development server. Do not use it in a production deployment. Use a production WSGI server instead.\u001b[0m\n",
      " * Running on http://127.0.0.1:3000\n",
      "Press CTRL+C to quit\n",
      "INFO:werkzeug:\u001b[33mPress CTRL+C to quit\u001b[0m\n",
      " * Restarting with stat\n",
      "INFO:werkzeug: * Restarting with stat\n"
     ]
    },
    {
     "ename": "SystemExit",
     "evalue": "1",
     "output_type": "error",
     "traceback": [
      "An exception has occurred, use %tb to see the full traceback.\n",
      "\u001b[1;31mSystemExit\u001b[0m\u001b[1;31m:\u001b[0m 1\n"
     ]
    },
    {
     "name": "stderr",
     "output_type": "stream",
     "text": [
      "C:\\Users\\sanje\\AppData\\Local\\Packages\\PythonSoftwareFoundation.Python.3.11_qbz5n2kfra8p0\\LocalCache\\local-packages\\Python311\\site-packages\\IPython\\core\\interactiveshell.py:3513: UserWarning: To exit: use 'exit', 'quit', or Ctrl-D.\n",
      "  warn(\"To exit: use 'exit', 'quit', or Ctrl-D.\", stacklevel=1)\n"
     ]
    }
   ],
   "source": [
    "if __name__ == '__main__':\n",
    "    app.run(port=3000, debug=True) "
   ]
  },
  {
   "cell_type": "code",
   "execution_count": null,
   "metadata": {},
   "outputs": [
    {
     "name": "stderr",
     "output_type": "stream",
     "text": [
      "NoneType: None\n"
     ]
    }
   ],
   "source": [
    "import traceback\n",
    "\n",
    "\n",
    "traceback.print_exc()"
   ]
  },
  {
   "cell_type": "code",
   "execution_count": null,
   "metadata": {},
   "outputs": [],
   "source": []
  }
 ],
 "metadata": {
  "kernelspec": {
   "display_name": "Python 3",
   "language": "python",
   "name": "python3"
  },
  "language_info": {
   "codemirror_mode": {
    "name": "ipython",
    "version": 3
   },
   "file_extension": ".py",
   "mimetype": "text/x-python",
   "name": "python",
   "nbconvert_exporter": "python",
   "pygments_lexer": "ipython3",
   "version": "3.11.3"
  },
  "orig_nbformat": 4
 },
 "nbformat": 4,
 "nbformat_minor": 2
}
