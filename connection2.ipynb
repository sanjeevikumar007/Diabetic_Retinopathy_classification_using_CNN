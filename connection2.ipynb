{
 "cells": [
  {
   "cell_type": "code",
   "execution_count": 1,
   "metadata": {},
   "outputs": [
    {
     "ename": "SyntaxError",
     "evalue": "invalid syntax (2219973103.py, line 4)",
     "output_type": "error",
     "traceback": [
      "\u001b[1;36m  Cell \u001b[1;32mIn[1], line 4\u001b[1;36m\u001b[0m\n\u001b[1;33m    from PIL import Image from io import BytesIO\u001b[0m\n\u001b[1;37m                          ^\u001b[0m\n\u001b[1;31mSyntaxError\u001b[0m\u001b[1;31m:\u001b[0m invalid syntax\n"
     ]
    }
   ],
   "source": [
    "import tensorflow as tf\n",
    "import numpy as np\n",
    "import cv2\n",
    "from PIL import Image from io import BytesIO\n",
    "from flask import Flask, request, jsonify\n",
    "import base64\n",
    "from tensorflow.keras.preprocessing.image import load_img, img_to_array"
   ]
  },
  {
   "cell_type": "code",
   "execution_count": null,
   "metadata": {},
   "outputs": [],
   "source": [
    "model = tf.keras.models.load_model('D:/Project/DR/model_alexnet_wiener_clahe_g.h5')"
   ]
  },
  {
   "cell_type": "code",
   "execution_count": null,
   "metadata": {},
   "outputs": [],
   "source": [
    "# Initialize the Flask application\n",
    "app = Flask(__name__)\n",
    "\n"
   ]
  },
  {
   "cell_type": "code",
   "execution_count": null,
   "metadata": {},
   "outputs": [],
   "source": [
    "@app.route('/predict', methods=['POST'])\n",
    "def predict():\n",
    "    # Get the image data from the request\n",
    "    image_file = request.files['image']\n",
    "    image = load_img(image_file, target_size=(224, 224))\n",
    "    image_array = img_to_array(image)\n",
    "    image_array = image_array / 255.0\n",
    "    image_array = tf.expand_dims(image_array, axis=0)\n",
    "    \n",
    "    # Make the prediction\n",
    "    prediction = model.predict(image_array)\n",
    "\n",
    "    # Convert the prediction output to a JSON object\n",
    "    output = {\n",
    "        'prediction': prediction.tolist(),\n",
    "    }\n",
    "\n",
    "    return jsonify(output)\n",
    "\n",
    "if __name__ == '__main__':\n",
    "    app.run()"
   ]
  },
  {
   "cell_type": "code",
   "execution_count": null,
   "metadata": {},
   "outputs": [],
   "source": [
    "def preprocess_image(image_bytes):\n",
    "    img =Image.open(BytesIO(image_bytes)).conert('RGB')\n",
    "    img_array = np.array(img)\n",
    "    img_array = img_array/255\n",
    "    img_array =np.expand_dims(img_array, axis=0)\n",
    "    return img_array\n"
   ]
  },
  {
   "cell_type": "code",
   "execution_count": null,
   "metadata": {},
   "outputs": [],
   "source": [
    "def predict(image_bytes):\n",
    "    img_array = preprocess_image(image_bytes)\n",
    "    predictions =model,predict(img_array)\n",
    "    predicted_class=np.argmax(predictions[0])\n",
    "    return predicted_class\n"
   ]
  },
  {
   "cell_type": "code",
   "execution_count": null,
   "metadata": {},
   "outputs": [],
   "source": [
    "def readb64(base64_string):\n",
    "    sbuf = BytesIO()\n",
    "    sbuf.write(base64.b64decode(base64_string))\n",
    "    pimg = Image.open(sbuf).convert('RGB')\n",
    "    return pimg"
   ]
  },
  {
   "cell_type": "code",
   "execution_count": null,
   "metadata": {},
   "outputs": [],
   "source": [
    "def process_image_and_predict(base64_string):\n",
    "    image = readb64(base64_string)\n",
    "    image_bytes = cv2.imencode('.jpg', np.array(image))[1].tobytes()\n",
    "    predicted_class = predict(image_bytes)\n",
    "    return predicted_class"
   ]
  },
  {
   "cell_type": "code",
   "execution_count": null,
   "metadata": {},
   "outputs": [],
   "source": [
    "# Generate predictions\n",
    "y_preds = model.predict(img_array)\n",
    "\n",
    "# Print the predicted class probabilities\n",
    "print(y_preds)"
   ]
  },
  {
   "cell_type": "code",
   "execution_count": null,
   "metadata": {},
   "outputs": [],
   "source": [
    "class_code = {0: \"No_DR\",\n",
    "              1: \"Mild\", \n",
    "              2: \"Moderate\",\n",
    "              3: \"Severe\",\n",
    "              4: \"Proliferate_DR\"}\n",
    "predicted_class = class_code[y_preds.argmax()]\n",
    "print(\"Predicted class:\", predicted_class)"
   ]
  }
 ],
 "metadata": {
  "kernelspec": {
   "display_name": "Python 3",
   "language": "python",
   "name": "python3"
  },
  "language_info": {
   "codemirror_mode": {
    "name": "ipython",
    "version": 3
   },
   "file_extension": ".py",
   "mimetype": "text/x-python",
   "name": "python",
   "nbconvert_exporter": "python",
   "pygments_lexer": "ipython3",
   "version": "3.11.3"
  },
  "orig_nbformat": 4
 },
 "nbformat": 4,
 "nbformat_minor": 2
}
